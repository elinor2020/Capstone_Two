{
 "cells": [
  {
   "cell_type": "markdown",
   "id": "driving-coach",
   "metadata": {},
   "source": [
    "Modeling: Multiple Linear Regression, Support Vector Machine, Neural Network"
   ]
  },
  {
   "cell_type": "code",
   "execution_count": 1,
   "id": "constant-joshua",
   "metadata": {},
   "outputs": [],
   "source": [
    "# import all libraries\n",
    "import numpy as np\n",
    "import pandas as pd\n",
    "import matplotlib.pyplot as plt \n",
    "import seaborn as sns\n",
    "import re\n",
    "\n",
    "import sklearn\n",
    "from sklearn.model_selection import train_test_split\n",
    "from sklearn.preprocessing import MinMaxScaler\n",
    "from sklearn.preprocessing import PolynomialFeatures\n",
    "from sklearn.preprocessing import scale\n",
    "from sklearn.feature_selection import RFE\n",
    "from sklearn.linear_model import LinearRegression\n",
    "from sklearn.model_selection import cross_val_score\n",
    "from sklearn.model_selection import KFold\n",
    "from sklearn.model_selection import GridSearchCV\n",
    "from sklearn.pipeline import make_pipeline\n",
    "import datetime\n",
    "import warnings # supress warnings\n",
    "warnings.filterwarnings('ignore')"
   ]
  },
  {
   "cell_type": "code",
   "execution_count": 2,
   "id": "labeled-trinidad",
   "metadata": {},
   "outputs": [],
   "source": [
    "# Read in data: \n",
    "X_train = pd.read_csv('X_train.csv')\n",
    "X_test = pd.read_csv('X_test.csv')\n",
    "y_train = pd.read_csv('y_train.csv')\n",
    "y_test = pd.read_csv('y_test.csv')\n",
    "X_train.index = X_train['Time']\n",
    "X_train = X_train.drop(['Time'], axis=1)\n",
    "X_test.index = X_test['Time']\n",
    "X_test = X_test.drop(['Time'], axis=1)\n",
    "y_train.index = y_train['Time']\n",
    "y_train = y_train.drop(['Time'], axis=1)\n",
    "y_test.index = y_test['Time']\n",
    "y_test = y_test.drop(['Time'], axis=1)"
   ]
  },
  {
   "cell_type": "code",
   "execution_count": 3,
   "id": "molecular-speech",
   "metadata": {},
   "outputs": [
    {
     "name": "stdout",
     "output_type": "stream",
     "text": [
      "0.45634755228780666\n"
     ]
    }
   ],
   "source": [
    "# first model with an arbitrary choice of n_features\n",
    "# running RFE with number of features=10\n",
    "\n",
    "lm = LinearRegression()\n",
    "lm.fit(X_train, y_train)\n",
    "\n",
    "rfe = RFE(lm, n_features_to_select=10)             \n",
    "rfe = rfe.fit(X_train, y_train)\n",
    "\n",
    "# predict counts of X_test\n",
    "y_pred = rfe.predict(X_test)\n",
    "\n",
    "# evaluate the model on test set\n",
    "r2 = sklearn.metrics.r2_score(y_test, y_pred)\n",
    "print(r2)"
   ]
  },
  {
   "cell_type": "code",
   "execution_count": 4,
   "id": "global-supplement",
   "metadata": {},
   "outputs": [
    {
     "name": "stdout",
     "output_type": "stream",
     "text": [
      "R-squared:  0.44978387926349406\n",
      "R-squared:  [0.41956621 0.44684042 0.46984199 0.45928324 0.44893947]\n",
      "neg_mean_squared_error:  [-0.56333458 -0.54566715 -0.55325863 -0.54882852 -0.54091382]\n"
     ]
    }
   ],
   "source": [
    "# try with another value of RFE\n",
    "lm = LinearRegression()\n",
    "lm.fit(X_train, y_train)\n",
    "\n",
    "rfe = RFE(lm, n_features_to_select=6)             \n",
    "rfe = rfe.fit(X_train, y_train)\n",
    "\n",
    "# predict count of X_test\n",
    "y_pred = rfe.predict(X_test)\n",
    "r2 = sklearn.metrics.r2_score(y_test, y_pred)\n",
    "print(\"R-squared: \", r2)\n",
    "\n",
    "# k-fold CV (using all the 13 variables)\n",
    "lm = LinearRegression()\n",
    "scores = cross_val_score(lm, X_train, y_train, scoring='r2', cv=5)\n",
    "print(\"R-squared: \", scores)\n",
    "\n",
    "# Tune other metrics, such as MSE\n",
    "scores = cross_val_score(lm, X_train, y_train, scoring='neg_mean_squared_error', cv=5)\n",
    "print(\"neg_mean_squared_error: \", scores)"
   ]
  },
  {
   "cell_type": "code",
   "execution_count": 5,
   "id": "southern-shoulder",
   "metadata": {},
   "outputs": [
    {
     "name": "stdout",
     "output_type": "stream",
     "text": [
      "Number of features:  12\n",
      "Fitting 5 folds for each of 13 candidates, totalling 65 fits\n"
     ]
    },
    {
     "name": "stderr",
     "output_type": "stream",
     "text": [
      "[Parallel(n_jobs=1)]: Using backend SequentialBackend with 1 concurrent workers.\n",
      "[Parallel(n_jobs=1)]: Done  65 out of  65 | elapsed:    1.1s finished\n"
     ]
    },
    {
     "data": {
      "image/png": "[encoded data removed]",
      "text/plain": [
       "<Figure size 1152x432 with 1 Axes>"
      ]
     },
     "metadata": {
      "needs_background": "light"
     },
     "output_type": "display_data"
    }
   ],
   "source": [
    "# Hyperparameter Tuning Using Grid Search Cross-Validation\n",
    "# number of features in X_train\n",
    "print(\"Number of features: \", len(X_train.columns))\n",
    "\n",
    "# step-1: create a cross-validation scheme\n",
    "folds = KFold(n_splits = 5, shuffle = True, random_state = 100)\n",
    "\n",
    "# step-2: specify range of hyperparameters to tune\n",
    "hyper_params = [{'n_features_to_select': list(range(1, 14))}]\n",
    "\n",
    "\n",
    "# step-3: perform grid search\n",
    "# 3.1 specify model\n",
    "lm = LinearRegression()\n",
    "lm.fit(X_train, y_train)\n",
    "rfe = RFE(lm)\n",
    "\n",
    "# 3.2 call GridSearchCV()\n",
    "model_cv = GridSearchCV(estimator = rfe, \n",
    "                        param_grid = hyper_params, \n",
    "                        scoring= 'r2', \n",
    "                        cv = folds, \n",
    "                        verbose = 1,\n",
    "                        return_train_score=True)      \n",
    "\n",
    "# fit the model\n",
    "model_cv.fit(X_train, y_train) \n",
    "\n",
    "# cv results\n",
    "cv_results = pd.DataFrame(model_cv.cv_results_)\n",
    "cv_results\n",
    "\n",
    "# plotting cv results\n",
    "plt.figure(figsize=(16,6))\n",
    "plt.plot(cv_results[\"param_n_features_to_select\"], cv_results[\"mean_test_score\"])\n",
    "plt.plot(cv_results[\"param_n_features_to_select\"], cv_results[\"mean_train_score\"])\n",
    "plt.xlabel('number of features')\n",
    "plt.ylabel('r-squared')\n",
    "plt.title(\"Optimal Number of Features\")\n",
    "plt.legend(['test score', 'train score'], loc='upper left');"
   ]
  },
  {
   "cell_type": "code",
   "execution_count": 6,
   "id": "equivalent-attempt",
   "metadata": {},
   "outputs": [
    {
     "name": "stdout",
     "output_type": "stream",
     "text": [
      "0.45627572593755406\n"
     ]
    }
   ],
   "source": [
    "# final model for Multiple Linear Regression\n",
    "n_features_optimal = 10\n",
    "\n",
    "lm = LinearRegression()\n",
    "lm.fit(X_train, y_train)\n",
    "\n",
    "rfe = RFE(lm, n_features_to_select=n_features_optimal)             \n",
    "rfe = rfe.fit(X_train, y_train)\n",
    "\n",
    "# predict counts of X_test\n",
    "y_pred = lm.predict(X_test)\n",
    "r2 = sklearn.metrics.r2_score(y_test, y_pred)\n",
    "print(r2)"
   ]
  },
  {
   "cell_type": "code",
   "execution_count": 7,
   "id": "generous-anthony",
   "metadata": {},
   "outputs": [
    {
     "name": "stdout",
     "output_type": "stream",
     "text": [
      "Fitting 5 folds for each of 10 candidates, totalling 50 fits\n"
     ]
    },
    {
     "name": "stderr",
     "output_type": "stream",
     "text": [
      "[Parallel(n_jobs=1)]: Using backend SequentialBackend with 1 concurrent workers.\n",
      "[Parallel(n_jobs=1)]: Done  50 out of  50 | elapsed:    0.9s finished\n"
     ]
    },
    {
     "data": {
      "image/png": "[encoded data removed]",
      "text/plain": [
       "<Figure size 1152x432 with 1 Axes>"
      ]
     },
     "metadata": {
      "needs_background": "light"
     },
     "output_type": "display_data"
    }
   ],
   "source": [
    "# creating a KFold object with 5 splits \n",
    "folds = KFold(n_splits = 5, shuffle = True, random_state = 100)\n",
    "\n",
    "# specify range of hyperparameters\n",
    "hyper_params = [{'n_features_to_select': list(range(2, 12))}]\n",
    "\n",
    "# specify model\n",
    "lm = LinearRegression()\n",
    "lm.fit(X_train, y_train)\n",
    "rfe = RFE(lm)             \n",
    "\n",
    "# set up GridSearchCV()\n",
    "model_cv = GridSearchCV(estimator = rfe, \n",
    "                        param_grid = hyper_params, \n",
    "                        scoring= 'r2', \n",
    "                        cv = folds, \n",
    "                        verbose = 1,\n",
    "                        return_train_score=True)      \n",
    "\n",
    "# fit the model\n",
    "model_cv.fit(X_train, y_train)\n",
    "\n",
    "# cv results\n",
    "cv_results = pd.DataFrame(model_cv.cv_results_)\n",
    "cv_results\n",
    "\n",
    "# plotting cv results\n",
    "plt.figure(figsize=(16,6))\n",
    "\n",
    "plt.plot(cv_results[\"param_n_features_to_select\"], cv_results[\"mean_test_score\"])\n",
    "plt.plot(cv_results[\"param_n_features_to_select\"], cv_results[\"mean_train_score\"])\n",
    "plt.xlabel('number of features')\n",
    "plt.ylabel('r-squared')\n",
    "plt.title(\"Optimal Number of Features\")\n",
    "plt.legend(['test score', 'train score'], loc='upper left');"
   ]
  },
  {
   "cell_type": "code",
   "execution_count": 8,
   "id": "adjacent-parallel",
   "metadata": {},
   "outputs": [],
   "source": [
    "# Support Vector Machine Regression\n",
    "from sklearn.svm import SVR\n",
    "\n",
    "X = X_train\n",
    "y = y_train\n",
    "\n",
    "svr_rbf = SVR(kernel='rbf', C=1e3, gamma=0.1)"
   ]
  },
  {
   "cell_type": "code",
   "execution_count": 9,
   "id": "revised-planner",
   "metadata": {},
   "outputs": [],
   "source": [
    "svr_lin = SVR(kernel='linear', C=1e3)"
   ]
  },
  {
   "cell_type": "code",
   "execution_count": 10,
   "id": "pharmaceutical-northeast",
   "metadata": {},
   "outputs": [],
   "source": [
    "svr_poly = SVR(kernel='poly', C=1e3, degree=2)"
   ]
  },
  {
   "cell_type": "code",
   "execution_count": 11,
   "id": "curious-breathing",
   "metadata": {},
   "outputs": [],
   "source": [
    "y_rbf = svr_rbf.fit(X, y).predict(X) #Takes a minute or two"
   ]
  },
  {
   "cell_type": "code",
   "execution_count": 11,
   "id": "stupid-fifteen",
   "metadata": {},
   "outputs": [],
   "source": [
    "y_lin = svr_lin.fit(X, y).predict(X) #Takes 20 minutes"
   ]
  },
  {
   "cell_type": "code",
   "execution_count": 12,
   "id": "prerequisite-thomas",
   "metadata": {},
   "outputs": [],
   "source": [
    "y_poly = svr_poly.fit(X, y).predict(X)"
   ]
  },
  {
   "cell_type": "code",
   "execution_count": 13,
   "id": "committed-badge",
   "metadata": {},
   "outputs": [
    {
     "name": "stdout",
     "output_type": "stream",
     "text": [
      "{'C': 100, 'epsilon': 0.1, 'gamma': 0.1, 'kernel': 'rbf'}\n",
      "0.6442258793336829\n"
     ]
    }
   ],
   "source": [
    "#from sklearn.grid_search import GridSearchCV\n",
    "#param_grid = {'svc__C': [1, 5, 10, 50],\n",
    "             # 'svc__gamma': [0.0001, 0.0005, 0.001, 0.005]}\n",
    "#grid = GridSearchCV(model, param_grid)\n",
    "\n",
    "#%time grid.fit(X_train, y_train)\n",
    "#print(grid.best_params_)\n",
    "\n",
    "from sklearn.svm import SVR\n",
    "from sklearn.model_selection import learning_curve, GridSearchCV\n",
    "#from sklearn.model_selection import GridSearchCV\n",
    "#param_grid = { 'C':[0.1,1,100,1000],'kernel':['rbf','poly','sigmoid','linear'],'degree':[1,2,3,4,5,6],'gamma': [1, 0.1, 0.01, 0.001, 0.0001]}\n",
    "param_grid = { 'C':[0.1, 10, 100],'kernel':['rbf'],'gamma': [1, 0.1, 0.01], 'epsilon': [0.1]}\n",
    "grid = GridSearchCV(SVR(),param_grid)\n",
    "grid.fit(X_train,y_train)\n",
    "\n",
    "#svr_rbf = SVR(kernel='rbf', C=100, gamma=0.1, epsilon=.1)"
   ]
  },
  {
   "cell_type": "code",
   "execution_count": 14,
   "id": "competent-honey",
   "metadata": {},
   "outputs": [
    {
     "name": "stdout",
     "output_type": "stream",
     "text": [
      "{'C': 100, 'epsilon': 0.1, 'gamma': 0.1, 'kernel': 'rbf'}\n",
      "0.6442258793336829\n"
     ]
    }
   ],
   "source": [
    "print(grid.best_params_)\n",
    "\n",
    "print(grid.score(X_test,y_test))"
   ]
  },
  {
   "cell_type": "code",
   "execution_count": 15,
   "id": "modular-palestine",
   "metadata": {},
   "outputs": [
    {
     "name": "stdout",
     "output_type": "stream",
     "text": [
      "0.6442258793336829\n"
     ]
    }
   ],
   "source": [
    "# predict counts of X_test\n",
    "y_pred = grid.predict(X_test)\n",
    "r2 = sklearn.metrics.r2_score(y_test, y_pred)\n",
    "print(r2)"
   ]
  },
  {
   "cell_type": "markdown",
   "id": "cross-membership",
   "metadata": {},
   "source": [
    "Neural Network Model"
   ]
  },
  {
   "cell_type": "code",
   "execution_count": 20,
   "id": "reliable-equivalent",
   "metadata": {},
   "outputs": [
    {
     "name": "stdout",
     "output_type": "stream",
     "text": [
      "The nltk version is 3.6.1.\n",
      "The scikit-learn version is 0.23.2.\n"
     ]
    }
   ],
   "source": [
    "# Neural networks model\n",
    "import sys\n",
    "sys.path.append('/Users/elinorvelasquez/anaconda3/lib/python3.8/site-packages/')\n",
    "#!conda install -c conda-forge statsmodels\n",
    "\n",
    "import sklearn\n",
    "import nltk\n",
    "\n",
    "print('The nltk version is {}.'.format(nltk.__version__))\n",
    "print('The scikit-learn version is {}.'.format(sklearn.__version__))\n",
    "# For neural networks, > 0.18 is needed. I have 0.23.2."
   ]
  },
  {
   "cell_type": "code",
   "execution_count": 21,
   "id": "dynamic-collapse",
   "metadata": {},
   "outputs": [],
   "source": [
    "# The neural network in Python may have difficulty converging before the maximum number of iterations allowed \n",
    "# if the data is not normalized. \n",
    "from sklearn.preprocessing import StandardScaler\n",
    "scaler = StandardScaler()\n",
    "# Fit only to the training data\n",
    "scaler.fit(X_train)\n",
    "# Now apply the transformations to the data:\n",
    "X_train = scaler.transform(X_train)\n",
    "X_test = scaler.transform(X_test)"
   ]
  },
  {
   "cell_type": "code",
   "execution_count": 26,
   "id": "pending-billion",
   "metadata": {},
   "outputs": [
    {
     "name": "stdout",
     "output_type": "stream",
     "text": [
      "[[  98   50    0    0    0    0]\n",
      " [  23 1277    9    3    0    0]\n",
      " [   0  169   24    5    0    0]\n",
      " [   0   55   15   13    0    0]\n",
      " [   0    3    2    3    0    0]\n",
      " [   0    0    1    2    0    0]]\n",
      "              precision    recall  f1-score   support\n",
      "\n",
      "          -1       0.81      0.66      0.73       148\n",
      "           0       0.82      0.97      0.89      1312\n",
      "           1       0.47      0.12      0.19       198\n",
      "           2       0.50      0.16      0.24        83\n",
      "           3       0.00      0.00      0.00         8\n",
      "           4       0.00      0.00      0.00         3\n",
      "\n",
      "    accuracy                           0.81      1752\n",
      "   macro avg       0.43      0.32      0.34      1752\n",
      "weighted avg       0.76      0.81      0.76      1752\n",
      "\n",
      "4\n",
      "12\n",
      "13\n"
     ]
    }
   ],
   "source": [
    "from sklearn.neural_network import MLPClassifier\n",
    "mlp = MLPClassifier(hidden_layer_sizes=(13,13,13),max_iter=50)\n",
    "#y_train1 = y_train.drop(['Time'], axis=1)\n",
    "y_train1 = y_train.astype('int')\n",
    "\n",
    "mlp.fit(X_train, np.ravel(y_train1))\n",
    "predictions = mlp.predict(X_test)\n",
    "\n",
    "from sklearn.metrics import classification_report,confusion_matrix\n",
    "#y_test1 = y_test.drop(['Time'], axis=1)\n",
    "y_test1 = y_test.astype('int')\n",
    "\n",
    "print(confusion_matrix(y_test1, predictions))\n",
    "print(classification_report(y_test1, predictions))\n",
    "print(len(mlp.coefs_))\n",
    "print(len(mlp.coefs_[0]))\n",
    "print(len(mlp.intercepts_[0]))"
   ]
  },
  {
   "cell_type": "code",
   "execution_count": null,
   "id": "complete-religion",
   "metadata": {},
   "outputs": [],
   "source": []
  }
 ],
 "metadata": {
  "kernelspec": {
   "display_name": "Python 3",
   "language": "python",
   "name": "python3"
  },
  "language_info": {
   "codemirror_mode": {
    "name": "ipython",
    "version": 3
   },
   "file_extension": ".py",
   "mimetype": "text/x-python",
   "name": "python",
   "nbconvert_exporter": "python",
   "pygments_lexer": "ipython3",
   "version": "3.8.6"
  }
 },
 "nbformat": 4,
 "nbformat_minor": 5
}
